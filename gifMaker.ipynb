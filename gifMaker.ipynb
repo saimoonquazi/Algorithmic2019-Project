{
 "cells": [
  {
   "cell_type": "code",
   "execution_count": 3,
   "metadata": {},
   "outputs": [],
   "source": [
    "import imageio\n",
    "import glob\n",
    "import os"
   ]
  },
  {
   "cell_type": "code",
   "execution_count": 8,
   "metadata": {},
   "outputs": [],
   "source": [
    "def make_searched_gif():\n",
    "    if os.path.exists(\"searched_movie.gif\"):\n",
    "        os.remove(\"searched_movie.gif\")\n",
    "    file_list=[os.path.basename(x) for x in glob.glob('test/*')]\n",
    "    file_list.sort(key=lambda fname: int(fname.split('.')[0]))\n",
    "    if len(file_list)>5000:\n",
    "        frame_speed = 100\n",
    "    elif len(file_list)<5000:\n",
    "        frame_speed = 50\n",
    "    with imageio.get_writer('searched_movie.gif', mode='I',fps=30) as writer:\n",
    "        for count,filename in enumerate(file_list,1):\n",
    "            if count% frame_speed == 0:\n",
    "                image = imageio.imread('test'+'/'+filename)\n",
    "                writer.append_data(image)\n",
    "\n",
    "def make_solved_gif():\n",
    "    if os.path.exists(\"solved_movie.gif\"):\n",
    "        os.remove(\"solved_movie.gif\")    \n",
    "    file_list=[os.path.basename(x) for x in glob.glob('solved/*')]\n",
    "    file_list.sort(key=lambda fname: int(fname.split('.')[0]))\n",
    "    if len(file_list)>500:\n",
    "        frame_speed = 5\n",
    "    elif len(file_list)<500:\n",
    "        frame_speed = 2\n",
    "    with imageio.get_writer('solved_movie.gif', mode='I',fps=30) as writer:\n",
    "        for count,filename in enumerate(file_list,1):\n",
    "            if count% frame_speed == 0:\n",
    "                image = imageio.imread('solved'+'/'+filename)\n",
    "                writer.append_data(image)"
   ]
  }
 ],
 "metadata": {
  "kernelspec": {
   "display_name": "Python 3",
   "language": "python",
   "name": "python3"
  },
  "language_info": {
   "codemirror_mode": {
    "name": "ipython",
    "version": 3
   },
   "file_extension": ".py",
   "mimetype": "text/x-python",
   "name": "python",
   "nbconvert_exporter": "python",
   "pygments_lexer": "ipython3",
   "version": "3.7.4"
  }
 },
 "nbformat": 4,
 "nbformat_minor": 2
}
